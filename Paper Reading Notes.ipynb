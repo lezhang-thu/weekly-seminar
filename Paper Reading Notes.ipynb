{
 "cells": [
  {
   "cell_type": "markdown",
   "id": "617ff7ab",
   "metadata": {
    "slideshow": {
     "slide_type": "slide"
    }
   },
   "source": [
    "# Hindsight Experience Replay\n",
    "\n",
    "* 同一个episode，例如考虑$s_t$，选择多个random的、之后的states作为其的goals，计算$r'=r(s_t,a_t,g')$\n",
    "* 传统的为：$r(s_t,a_t,g)$\n",
    "* HER may be seen as a form of **implicit curriculum** as the goals used for replay naturally shift from ones which are simple to achieve even by a random agent to more difficult ones."
   ]
  },
  {
   "cell_type": "markdown",
   "id": "88f3a7d8",
   "metadata": {
    "slideshow": {
     "slide_type": "slide"
    }
   },
   "source": [
    "# DDPG\n",
    "\n",
    "Because the action space is continuous, the function $Q^*(s,a)$ is presumed to be differentiable with respect to the action argument.\n",
    "\n",
    "之前DQN为：\n",
    "\n",
    "$$\n",
    "Q^*(s,a)=\\mathop{\\mathbb{E}}_{s'\\sim P}\\bigl[r(s,a)+\\gamma\\max_{a'}Q^*(s',a')\\bigr]\n",
    "$$\n",
    "\n"
   ]
  },
  {
   "cell_type": "markdown",
   "id": "b7ac5f1c",
   "metadata": {
    "slideshow": {
     "slide_type": "slide"
    }
   },
   "source": [
    "# DDPG\n",
    "\n",
    "而DDPG为：\n",
    "\n",
    "$$\n",
    "Q^*(s,a)=\\mathop{\\mathbb{E}}_{s'\\sim P}[r(s,a)+\\gamma Q^*(s',\\mu(s'))]\n",
    "$$\n",
    "\n",
    "对$\\mu(s')$的优化为：$\\max_\\theta \\mathop{\\mathbb{E}}_{s\\sim \\mathcal{D}}[Q_\\phi(s,\\mu_\\theta(s))]$"
   ]
  }
 ],
 "metadata": {
  "celltoolbar": "Slideshow",
  "kernelspec": {
   "display_name": "Python 3",
   "language": "python",
   "name": "python3"
  },
  "language_info": {
   "codemirror_mode": {
    "name": "ipython",
    "version": 3
   },
   "file_extension": ".py",
   "mimetype": "text/x-python",
   "name": "python",
   "nbconvert_exporter": "python",
   "pygments_lexer": "ipython3",
   "version": "3.8.8"
  }
 },
 "nbformat": 4,
 "nbformat_minor": 5
}
