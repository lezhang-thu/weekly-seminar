{
 "cells": [
  {
   "cell_type": "markdown",
   "id": "617ff7ab",
   "metadata": {
    "slideshow": {
     "slide_type": "slide"
    }
   },
   "source": [
    "# Hindsight Experience Replay\n",
    "\n",
    "* 同一个episode，例如考虑$s_t$，选择多个random的、之后的states作为其的goals，计算$r'=r(s_t,a_t,g')$\n",
    "* 传统的为：$r(s_t,a_t,g)$\n",
    "* HER may be seen as a form of **implicit curriculum** as the goals used for replay naturally shift from ones which are simple to achieve even by a random agent to more difficult ones."
   ]
  }
 ],
 "metadata": {
  "celltoolbar": "Slideshow",
  "kernelspec": {
   "display_name": "Python 3",
   "language": "python",
   "name": "python3"
  },
  "language_info": {
   "codemirror_mode": {
    "name": "ipython",
    "version": 3
   },
   "file_extension": ".py",
   "mimetype": "text/x-python",
   "name": "python",
   "nbconvert_exporter": "python",
   "pygments_lexer": "ipython3",
   "version": "3.8.8"
  }
 },
 "nbformat": 4,
 "nbformat_minor": 5
}
